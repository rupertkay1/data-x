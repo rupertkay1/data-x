{
 "cells": [
  {
   "cell_type": "code",
   "execution_count": 40,
   "metadata": {
    "collapsed": false
   },
   "outputs": [
    {
     "data": {
      "text/plain": [
       "array([[ 402.22,  437.89,  437.89,  454.56],\n",
       "       [ 482.33,  489.89,  697.33,  748.11]])"
      ]
     },
     "execution_count": 40,
     "metadata": {},
     "output_type": "execute_result"
    }
   ],
   "source": [
    "import numpy as np\n",
    "a=np.array(list(range(10,20)))\n",
    "b=np.linspace(1,7,10) #ten evenly spaced numbers between 1-7\n",
    "a_square=a*a #square the arrays elementwise\n",
    "b_square=b*b\n",
    "sum_ab=b_square+a_square #add both square arrays\n",
    "sum([x for x in sum_ab if x%2 ==0]) #sum even elements of added array\n",
    "sum_ab**(1/2) #square root of added array\n",
    "\n",
    "\n",
    "ab=np.append(a,b) #appending b to a\n",
    "m=ab.reshape(5,4) #reshape that array\n",
    "m #print m\n",
    "m2=m[:,1:3]\n",
    "m2 #print m2\n",
    "\n",
    "m3=np.transpose(m2).dot(m)\n",
    "m3\n",
    "\n",
    "m3=np.around(m3,2)\n",
    "m3 #print the new m3 which is rounded\n",
    "m3dim=m3.shape\n",
    "m3=np.sort(m3.ravel()).reshape(m3dim) #flatten it and then reshape it\n",
    "m3"
   ]
  },
  {
   "cell_type": "code",
   "execution_count": null,
   "metadata": {
    "collapsed": false
   },
   "outputs": [],
   "source": []
  },
  {
   "cell_type": "code",
   "execution_count": null,
   "metadata": {
    "collapsed": true
   },
   "outputs": [],
   "source": []
  }
 ],
 "metadata": {
  "kernelspec": {
   "display_name": "Python 3",
   "language": "python",
   "name": "python3"
  },
  "language_info": {
   "codemirror_mode": {
    "name": "ipython",
    "version": 3
   },
   "file_extension": ".py",
   "mimetype": "text/x-python",
   "name": "python",
   "nbconvert_exporter": "python",
   "pygments_lexer": "ipython3",
   "version": "3.5.1"
  }
 },
 "nbformat": 4,
 "nbformat_minor": 0
}
