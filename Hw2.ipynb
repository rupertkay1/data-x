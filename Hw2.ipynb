{
 "cells": [
  {
   "cell_type": "code",
   "execution_count": 8,
   "metadata": {
    "collapsed": false,
    "scrolled": true
   },
   "outputs": [
    {
     "name": "stdout",
     "output_type": "stream",
     "text": [
      "[100 121 144 169 196 225 256 289 324 361]\n",
      "[  1.           2.77777778   5.44444444   9.          13.44444444\n",
      "  18.77777778  25.          32.11111111  40.11111111  49.        ]\n",
      "[ 101.          123.77777778  149.44444444  178.          209.44444444\n",
      "  243.77777778  281.          321.11111111  364.11111111  410.        ]\n",
      "588.0\n",
      "[ 10.04987562  11.12554618  12.22474721  13.34166406  14.47219556\n",
      "  15.61338457  16.76305461  17.91957341  19.08169571  20.24845673]\n",
      "[[ 10.          11.          12.          13.        ]\n",
      " [ 14.          15.          16.          17.        ]\n",
      " [ 18.          19.           1.           1.66666667]\n",
      " [  2.33333333   3.           3.66666667   4.33333333]\n",
      " [  5.           5.66666667   6.33333333   7.        ]]\n",
      "[[ 11.          12.        ]\n",
      " [ 15.          16.        ]\n",
      " [ 19.           1.        ]\n",
      " [  3.           3.66666667]\n",
      " [  5.66666667   6.33333333]]\n",
      "[[ 697.33333333  748.11111111  437.88888889  482.33333333]\n",
      " [ 402.22222222  437.88888889  454.55555556  489.88888889]]\n",
      "[[ 697.33  748.11  437.89  482.33]\n",
      " [ 402.22  437.89  454.56  489.89]]\n",
      "[[ 748.11  697.33  489.89  482.33]\n",
      " [ 454.56  437.89  437.89  402.22]]\n"
     ]
    }
   ],
   "source": [
    "import numpy as np\n",
    "a=np.array(list(range(10,20)))\n",
    "b=np.linspace(1,7,10) #ten evenly spaced numbers between 1-7\n",
    "a_square=a*a #square the arrays elementwise\n",
    "print(a_square)\n",
    "b_square=b*b\n",
    "print(b_square)\n",
    "sum_ab=b_square+a_square #add both square arrays\n",
    "print(sum_ab)\n",
    "print(sum([x for x in sum_ab if x%2 ==0])) #sum even elements of added array\n",
    "\n",
    "print(sum_ab**(1/2)) #square root of added array\n",
    "\n",
    "\n",
    "ab=np.append(a,b) #appending b to a\n",
    "m=ab.reshape(5,4) #reshape that array\n",
    "print(m) #print m\n",
    "m2=m[:,1:3]\n",
    "print(m2) #print m2\n",
    "\n",
    "m3=np.transpose(m2).dot(m)\n",
    "print(m3)\n",
    "\n",
    "m3=np.around(m3,2)\n",
    "print(m3) #print the new m3 which is rounded\n",
    "m3dim=m3.shape\n",
    "m3=np.sort(m3.ravel())[::-1].reshape(m3dim)  #flatten it and then reshape it\n",
    "print(m3) #print the sorted m3"
   ]
  },
  {
   "cell_type": "code",
   "execution_count": null,
   "metadata": {
    "collapsed": true,
    "scrolled": true
   },
   "outputs": [],
   "source": []
  },
  {
   "cell_type": "code",
   "execution_count": null,
   "metadata": {
    "collapsed": false,
    "scrolled": true
   },
   "outputs": [],
   "source": []
  }
 ],
 "metadata": {
  "kernelspec": {
   "display_name": "Python 3",
   "language": "python",
   "name": "python3"
  },
  "language_info": {
   "codemirror_mode": {
    "name": "ipython",
    "version": 3
   },
   "file_extension": ".py",
   "mimetype": "text/x-python",
   "name": "python",
   "nbconvert_exporter": "python",
   "pygments_lexer": "ipython3",
   "version": "3.5.1"
  }
 },
 "nbformat": 4,
 "nbformat_minor": 0
}
