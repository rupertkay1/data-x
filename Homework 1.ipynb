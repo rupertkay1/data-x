{
 "cells": [
  {
   "cell_type": "code",
   "execution_count": null,
   "metadata": {
    "collapsed": true
   },
   "outputs": [],
   "source": [
    "a= [];\n",
    "a=[2 + x*0.5 for x in range(89)]\n",
    "\n",
    "for i in range(len(a)):\n",
    "    if a[i]%2==0:\n",
    "        a[i]=a[i]*2;\n",
    "\n",
    "sum_a=sum(a)-a[32]-a[51]\n",
    "sum(a)/len(a) #this is the mean of a\n",
    "a_half=[];\n",
    "for x in range(len(a)):\n",
    "    if a[x]/0.5%2==1:\n",
    "        a_half=a_half+[a[x]];\n",
    "        \n",
    "a_full=[]\n",
    "for x in range(len(a)):\n",
    "    if a[x]/0.5%2==0:\n",
    "        a_full=a_full+[a[x]];\n",
    "a_full=sorted(a_full);\n",
    "a=a_full+a_half;\n",
    "for x in range(len(a)):\n",
    "    if x%4==0:\n",
    "        print(a[x]);\n",
    "        \n",
    "print(len(a_full));\n",
    "print(len(a_half));\n",
    "\n",
    "b=[\"I\",\"am\", \"so\", \"excited\" ,\"about\", \"Data-X.\" , \"I\", \"feel\" ,\"it\", \"is\", \"important\", \"to\" ,\"be\" ,\"able\" ,\"to\" ,\"work\" ,\"with\", \"data\"];\n",
    "freq=0;\n",
    "for i in range(len(b)):\n",
    "    freq=freq+b[i].count('e');\n",
    "    \n",
    "b=[x.replace('i','1') for x in b]\n",
    "b=b+[\"This\", \"is\",\t\"the\",\t\"end\",\t\"of\", \"the\",\t\"first\", \"HW\"];\n",
    "b_one=' '.join(b);\n",
    "b_one[::-1]\n"
   ]
  }
 ],
 "metadata": {
  "kernelspec": {
   "display_name": "Python 3",
   "language": "python",
   "name": "python3"
  },
  "language_info": {
   "codemirror_mode": {
    "name": "ipython",
    "version": 3
   },
   "file_extension": ".py",
   "mimetype": "text/x-python",
   "name": "python",
   "nbconvert_exporter": "python",
   "pygments_lexer": "ipython3",
   "version": "3.5.1"
  }
 },
 "nbformat": 4,
 "nbformat_minor": 0
}
